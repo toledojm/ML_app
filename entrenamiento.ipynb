{
 "cells": [
  {
   "cell_type": "code",
   "execution_count": 5,
   "metadata": {},
   "outputs": [],
   "source": [
    "import pandas as pd\n",
    "import numpy as np\n",
    "\n",
    "from sklearn.tree import DecisionTreeClassifier\n",
    "\n",
    "from joblib import dump,load\n",
    "from sklearn.datasets import load_iris\n",
    "from sklearn.linear_model import LogisticRegression\n",
    "from sklearn.ensemble import StackingClassifier\n",
    "from sklearn.ensemble import HistGradientBoostingClassifier\n",
    "from sklearn.neighbors import KNeighborsClassifier\n",
    "from sklearn.ensemble import RandomForestClassifier\n",
    "from sklearn.svm import SVC\n",
    "\n",
    "from sklearn.model_selection import GridSearchCV"
   ]
  },
  {
   "cell_type": "code",
   "execution_count": 6,
   "metadata": {},
   "outputs": [],
   "source": [
    "iris = load_iris()\n",
    "X=iris.data\n",
    "y=iris.target\n"
   ]
  },
  {
   "cell_type": "code",
   "execution_count": 7,
   "metadata": {},
   "outputs": [
    {
     "data": {
      "text/plain": [
       "array(['setosa', 'versicolor', 'virginica'], dtype='<U10')"
      ]
     },
     "execution_count": 7,
     "metadata": {},
     "output_type": "execute_result"
    }
   ],
   "source": [
    "iris.target_names"
   ]
  },
  {
   "cell_type": "code",
   "execution_count": 8,
   "metadata": {},
   "outputs": [],
   "source": [
    "model_svc  = SVC()\n",
    "model_knn  = KNeighborsClassifier()\n",
    "model_rfc  = RandomForestClassifier()\n",
    "model_hgbc = HistGradientBoostingClassifier()\n",
    "model_lr   = LogisticRegression()\n",
    "model_dtc  = DecisionTreeClassifier()"
   ]
  },
  {
   "cell_type": "code",
   "execution_count": 9,
   "metadata": {},
   "outputs": [],
   "source": [
    "params_knn = {'n_neighbors': [ 5, 7, 9,11,13,15],\n",
    "                'weights': ['uniform', 'distance'],\n",
    "                'leaf_size': [7,15, 20]}\n",
    "\n",
    "params_rfc = { 'n_estimators': [100,200,300],\n",
    "                'max_depth' : [5,6,7,8,9],\n",
    "                'criterion' :['gini', 'entropy']}\n",
    "\n",
    "params_svc = {'C': [0.1,1.0, 5.0], \n",
    "              'gamma': [1,0.1,0.01],\n",
    "              'kernel': ['rbf', 'poly', 'sigmoid']}\n",
    "\n",
    "params_hgbc= {'learning_rate': (0.01, 0.1, 1, 10),\n",
    "                'max_leaf_nodes': (3, 10, 30)}\n",
    "\n",
    "params_dtc = {'max_depth' : [1,2,3,4,5,6,7,8,9,10,15,20],\n",
    "            'criterion' :['gini', 'entropy']}"
   ]
  },
  {
   "cell_type": "code",
   "execution_count": 10,
   "metadata": {},
   "outputs": [
    {
     "data": {
      "text/plain": [
       "{'criterion': 'gini', 'max_depth': 3}"
      ]
     },
     "execution_count": 10,
     "metadata": {},
     "output_type": "execute_result"
    }
   ],
   "source": [
    "clf_dtc = GridSearchCV(model_dtc ,\n",
    "                      param_grid=params_dtc,\n",
    "                      scoring='accuracy',\n",
    "                      cv=5)\n",
    "clf_dtc.fit(X,y)\n",
    "clf_dtc.best_params_"
   ]
  },
  {
   "cell_type": "code",
   "execution_count": 11,
   "metadata": {},
   "outputs": [
    {
     "data": {
      "text/plain": [
       "{'leaf_size': 7, 'n_neighbors': 11, 'weights': 'distance'}"
      ]
     },
     "execution_count": 11,
     "metadata": {},
     "output_type": "execute_result"
    }
   ],
   "source": [
    "clf_knn = GridSearchCV(model_knn ,\n",
    "                      param_grid=params_knn,\n",
    "                      scoring='accuracy',\n",
    "                      cv=5)\n",
    "clf_knn.fit(X,y)\n",
    "clf_knn.best_params_"
   ]
  },
  {
   "cell_type": "code",
   "execution_count": 12,
   "metadata": {},
   "outputs": [
    {
     "data": {
      "text/plain": [
       "{'criterion': 'gini', 'max_depth': 5, 'n_estimators': 100}"
      ]
     },
     "execution_count": 12,
     "metadata": {},
     "output_type": "execute_result"
    }
   ],
   "source": [
    "clf_rfc = GridSearchCV(model_rfc ,\n",
    "                      param_grid=params_rfc,\n",
    "                      scoring='accuracy',\n",
    "                      cv=5)\n",
    "clf_rfc.fit(X,y)\n",
    "clf_rfc.best_params_"
   ]
  },
  {
   "cell_type": "code",
   "execution_count": 13,
   "metadata": {},
   "outputs": [
    {
     "data": {
      "text/plain": [
       "{'C': 0.1, 'gamma': 0.1, 'kernel': 'poly'}"
      ]
     },
     "execution_count": 13,
     "metadata": {},
     "output_type": "execute_result"
    }
   ],
   "source": [
    "clf_svc = GridSearchCV(model_svc ,\n",
    "                      param_grid=params_svc,\n",
    "                      scoring='accuracy',\n",
    "                      cv=3,n_jobs=-1)\n",
    "clf_svc.fit(X,y)\n",
    "clf_svc.best_params_"
   ]
  },
  {
   "cell_type": "code",
   "execution_count": 14,
   "metadata": {},
   "outputs": [
    {
     "data": {
      "text/plain": [
       "{'learning_rate': 0.01, 'max_leaf_nodes': 3}"
      ]
     },
     "execution_count": 14,
     "metadata": {},
     "output_type": "execute_result"
    }
   ],
   "source": [
    "clf_hgbc = GridSearchCV(model_hgbc ,\n",
    "                      param_grid=params_hgbc,\n",
    "                      scoring='accuracy',\n",
    "                      cv=5)\n",
    "clf_hgbc.fit(X,y)\n",
    "clf_hgbc.best_params_"
   ]
  },
  {
   "cell_type": "code",
   "execution_count": 17,
   "metadata": {},
   "outputs": [
    {
     "data": {
      "text/plain": [
       "['clf_knn_model.py']"
      ]
     },
     "execution_count": 17,
     "metadata": {},
     "output_type": "execute_result"
    }
   ],
   "source": [
    "clf_svc_best=clf_svc.best_estimator_\n",
    "dump(clf_svc_best, filename='clf_svc_model.py')\n",
    "\n",
    "clf_hgbc_best=clf_svc.best_estimator_\n",
    "dump(clf_hgbc_best, filename='clf_hgbc_model.py')\n",
    "\n",
    "clf_rfc_best=clf_svc.best_estimator_\n",
    "dump(clf_rfc_best, filename='clf_rfc_model.py')\n",
    "\n",
    "clf_dtc_best=clf_svc.best_estimator_\n",
    "dump(clf_dtc_best, filename='clf_dtc_model.py')\n",
    "\n",
    "clf_knn_best=clf_svc.best_estimator_\n",
    "dump(clf_knn_best, filename='clf_knn_model.py')"
   ]
  }
 ],
 "metadata": {
  "kernelspec": {
   "display_name": "Python 3.10.4 64-bit",
   "language": "python",
   "name": "python3"
  },
  "language_info": {
   "codemirror_mode": {
    "name": "ipython",
    "version": 3
   },
   "file_extension": ".py",
   "mimetype": "text/x-python",
   "name": "python",
   "nbconvert_exporter": "python",
   "pygments_lexer": "ipython3",
   "version": "3.10.4"
  },
  "orig_nbformat": 4,
  "vscode": {
   "interpreter": {
    "hash": "aee8b7b246df8f9039afb4144a1f6fd8d2ca17a180786b69acc140d282b71a49"
   }
  }
 },
 "nbformat": 4,
 "nbformat_minor": 2
}
